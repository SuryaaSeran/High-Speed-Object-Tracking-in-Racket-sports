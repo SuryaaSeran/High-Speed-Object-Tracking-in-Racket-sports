{
 "cells": [
  {
   "cell_type": "markdown",
   "id": "medical-devon",
   "metadata": {},
   "source": [
    "## Visualization of Gaussian Kernel"
   ]
  },
  {
   "cell_type": "code",
   "execution_count": 1,
   "id": "abandoned-croatia",
   "metadata": {},
   "outputs": [
    {
     "data": {
      "image/png": "[encoded data removed]",
      "text/plain": [
       "<Figure size 432x288 with 2 Axes>"
      ]
     },
     "metadata": {
      "needs_background": "light"
     },
     "output_type": "display_data"
    }
   ],
   "source": [
    "import glob\n",
    "import csv\n",
    "import numpy\n",
    "import matplotlib.pyplot as plt\n",
    "from PIL import Image\n",
    "import os \n",
    "\n",
    "size = 20 \n",
    "def gaussian_kernel(variance):\n",
    "    x, y = numpy.mgrid[-size:size+1, -size:size+1]\n",
    "    g = numpy.exp(-(x**2+y**2)/float(2*variance))\n",
    "    return g \n",
    "\n",
    "\n",
    "variance = 10\n",
    "gaussian_kernel_array = gaussian_kernel(variance)\n",
    "temporary = len(gaussian_kernel_array)//2\n",
    "gaussian_kernel_array =  gaussian_kernel_array * 255/gaussian_kernel_array[temporary][temporary]\n",
    "gaussian_kernel_array = gaussian_kernel_array.astype(int)\n",
    "\n",
    "plt.imshow(gaussian_kernel_array, cmap=plt.get_cmap('gray'), interpolation='nearest')\n",
    "plt.colorbar()\n",
    "plt.show()"
   ]
  },
  {
   "cell_type": "markdown",
   "id": "superb-margin",
   "metadata": {},
   "source": [
    "## Generate Ground Truth"
   ]
  },
  {
   "cell_type": "code",
   "execution_count": null,
   "id": "swiss-keyboard",
   "metadata": {},
   "outputs": [],
   "source": [
    "for index in range(1,95):\n",
    "        pics = glob.glob(\"C:/Users/User/Project/Dataset1/Clip\" + str(index) + \"/*.jpg\")\n",
    "        output_pics_path = \"C:/Users/User/Project/GroundTruth1/Clip\" + str(index) \n",
    "        label_path = \"C:/Users/User/CIP/TrackNetMirror/Dataset1/Clip\" + str(index) + \"/Label.csv\"\n",
    "        \n",
    "        if not os.path.exists(output_pics_path ):\n",
    "            os.makedirs(output_pics_path)\n",
    "\n",
    "        with open(label_path, 'r') as csvfile:\n",
    "            spamreader = csv.reader(csvfile, delimiter=',', quotechar='|')\n",
    "            next(spamreader, None)  \n",
    "            \n",
    "            for row in spamreader:\n",
    "                    visibility = int(float(row[1]))\n",
    "                    FileName = row[0]\n",
    "                    if visibility == 0:\n",
    "                        heatmap = Image.new(\"RGB\", (1280, 720))\n",
    "                        pix = heatmap.load()\n",
    "                        for i in range(1280):\n",
    "                            for j in range(720):\n",
    "                                    pix[i,j] = (0,0,0)\n",
    "                    else:\n",
    "                        x = int(float(row[2]))\n",
    "                        y = int(float(row[3]))\n",
    "                        \n",
    "                        heatmap = Image.new(\"RGB\", (1280, 720))\n",
    "                        pix = heatmap.load()\n",
    "                        for i in range(1280):\n",
    "                            for j in range(720):\n",
    "                                    pix[i,j] = (0,0,0)\n",
    "                                    \n",
    "                        for i in range(-size,size+1):\n",
    "                            for j in range(-size,size+1):\n",
    "                                    if x+i<1280 and x+i>=0 and y+j<720 and y+j>=0 :\n",
    "                                        temp = gaussian_kernel_array[i+size][j+size]\n",
    "                                        if temp > 0:\n",
    "                                            pix[x+i,y+j] = (temp,temp,temp)\n",
    "\n",
    "                    heatmap.save(output_pics_path + \"/\" + FileName.split('.')[-2] + \".png\", \"PNG\")"
   ]
  },
  {
   "cell_type": "markdown",
   "id": "emotional-pressure",
   "metadata": {},
   "source": [
    "## Generate Input CSV file"
   ]
  },
  {
   "cell_type": "code",
   "execution_count": null,
   "id": "different-article",
   "metadata": {},
   "outputs": [],
   "source": [
    "import numpy as np\n",
    "import cv2\n",
    "import glob\n",
    "import itertools\n",
    "import random\n",
    "import csv\n",
    "\n",
    "training_file_name = \"train_model_3.csv\"\n",
    "testing_file_name = \"test_model_3.csv\"\n",
    "visibility_for_testing = []\n",
    "\n",
    "with open(training_file_name,'w') as file:\n",
    "    for index in range(1,95):\n",
    "        images_path = \"C:/Users/User/Project/Dataset1/Clip\" + str(index) + \"/\"\n",
    "        ground_path = \"C:/Users/User/Project/GroundTruth1/Clip\" + str(index) + \"/\"\n",
    "        \n",
    "        images = glob.glob(images_path + \"*.jpg\") + glob.glob(images_path + \"*.png\") + glob.glob(images_path + \"*.jpeg\")\n",
    "        images.sort()\n",
    "        \n",
    "        groundtruth = glob.glob(ground_path + \"*.jpg\") + glob.glob(ground_path + \"*.png\") +  glob.glob(ground_path + \"*.jpeg\")\n",
    "        groundtruth.sort()\n",
    "        \n",
    "        assert len( images ) == len(groundtruth)\n",
    "        for im , seg in zip(images,groundtruth):\n",
    "            assert(  im.split('/')[-1].split(\".\")[0] ==  seg.split('/')[-1].split(\".\")[0] )\n",
    "\n",
    "        visibility = {}\n",
    "        with open(images_path + \"Label.csv\", 'r') as csvfile:\n",
    "            spamreader = csv.reader(csvfile, delimiter=',', quotechar='|')\n",
    "            next(spamreader, None)  \n",
    "            for row in spamreader:\n",
    "                visibility[row[0]] = row[1]\n",
    "                    \n",
    "        for i in range(2,len(images)): \n",
    "                file_name = images[i].split('\\\\')[-1]\n",
    "                if visibility[file_name] == '3': \n",
    "                    visibility_for_testing.append(images[i])\n",
    "                assert(  images[i].split('/')[-1].split(\".\")[0] ==  groundtruth[i].split('/')[-1].split(\".\")[0] )\n",
    "                file.write(images[i] + \",\" + images[i-1] + \",\" + images[i-2] + \",\" + groundtruth[i] + \"\\n\")\n",
    "                \n",
    "                    \n",
    "file.close()\n",
    "\n",
    "\n",
    "lines = open(training_file_name).read().splitlines()\n",
    "\n",
    "training_images_number = int(len(lines)*0.7)\n",
    "testing_images_number = len(lines) - training_images_number\n",
    "print(\"Total images:\" + str(len(lines)) + \"Training images:\" + str(training_images_number) + \"Testing images:\" + str(testing_images_number))\n",
    "\n",
    "random.shuffle(lines)\n",
    "\n",
    "with open(training_file_name,'w') as training_file:\n",
    "    training_file.write(\"img, img1, img2, ann\\n\")\n",
    "\n",
    "    with open(testing_file_name,'w') as testing_file:\n",
    "        testing_file.write(\"img, img1, img2, ann\\n\")\n",
    "        \n",
    "        for i in range(0,len(lines)):\n",
    "            if lines[i] != \"\":\n",
    "                if training_images_number > 0 and lines[i].split(\",\")[0] not in visibility_for_testing :\n",
    "                    training_file.write(lines[i] + \"\\n\")\n",
    "                    training_images_number -=1\n",
    "                else:\n",
    "                    testing_file.write(lines[i] + \"\\n\")\n",
    "                    \n",
    "training_file.close()\n",
    "testing_file.close()\n",
    "    "
   ]
  }
 ],
 "metadata": {
  "kernelspec": {
   "display_name": "Python 3",
   "language": "python",
   "name": "python3"
  },
  "language_info": {
   "codemirror_mode": {
    "name": "ipython",
    "version": 3
   },
   "file_extension": ".py",
   "mimetype": "text/x-python",
   "name": "python",
   "nbconvert_exporter": "python",
   "pygments_lexer": "ipython3",
   "version": "3.8.5"
  }
 },
 "nbformat": 4,
 "nbformat_minor": 5
}
